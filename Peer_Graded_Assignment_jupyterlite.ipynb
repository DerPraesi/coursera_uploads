{
 "cells": [
  {
   "cell_type": "markdown",
   "metadata": {},
   "source": [
    "<center>\n",
    "    <img src=\"https://s3-api.us-geo.objectstorage.softlayer.net/cf-courses-data/CognitiveClass/Logos/organization_logo/organization_logo.png\" width=\"300\" alt=\"cognitiveclass.ai logo\">\n",
    "</center>\n"
   ]
  },
  {
   "cell_type": "markdown",
   "metadata": {},
   "source": [
    "#### Import the required libraries we need for the lab."
   ]
  },
  {
   "cell_type": "code",
   "execution_count": null,
   "metadata": {},
   "outputs": [],
   "source": [
    "import pandas as pd\n",
    "import pandas as pd\n",
    "import seaborn as sns\n",
    "import matplotlib.pyplot as pyplot\n",
    "import scipy.stats\n",
    "import statsmodels.api as sm\n",
    "from statsmodels.formula.api import ols"
   ]
  },
  {
   "cell_type": "markdown",
   "metadata": {},
   "source": [
    "#### Read the dataset in the csv file from the URL\n"
   ]
  },
  {
   "cell_type": "code",
   "execution_count": null,
   "metadata": {},
   "outputs": [],
   "source": [
    "boston_df=pd.read_csv('https://cf-courses-data.s3.us.cloud-object-storage.appdomain.cloud/IBMDeveloperSkillsNetwork-ST0151EN-SkillsNetwork/labs/boston_housing.csv')"
   ]
  },
  {
   "cell_type": "markdown",
   "metadata": {},
   "source": [
    "#### Add your code below following the instructions given in the course to complete the peer graded assignment\n"
   ]
  },
  {
   "cell_type": "markdown",
   "metadata": {},
   "source": [
    "## Task 1:\n",
    "#### Was to familiarize oneself with the data. No actual assignment. DONE.\n",
    "## Task 2: \n",
    "#### Task 2.1: For the \"Median value of owner-occupied homes\" provide a boxplot\n"
   ]
  },
  {
   "cell_type": "code",
   "execution_count": null,
   "metadata": {},
   "outputs": [],
   "source": [
    "ax = sns.boxplot(x='CHAS', y='MEDV', data=boston_df)\n",
    "ax.set_title('Owner Occupied Home Value')\n",
    "ax.set_xlabel('Tract Bounds Charles River (0: no, 1: yes)')\n",
    "ax.set_ylabel('Median Home Value [1\\'000$]')\n",
    "pyplot.show()"
   ]
  },
  {
   "cell_type": "markdown",
   "metadata": {},
   "source": [
    "#### Task 2.2: Provide a  bar plot for the Charles river variable\n",
    "Show average values of crime rate depending on charles river variable."
   ]
  },
  {
   "cell_type": "code",
   "execution_count": null,
   "metadata": {},
   "outputs": [],
   "source": [
    "chas_crim = boston_df.groupby('CHAS')[['CRIM']].mean().reset_index()\n",
    "sns.set(style=\"whitegrid\")\n",
    "ax = sns.barplot(x=\"CHAS\", y=\"CRIM\", data=chas_crim)\n",
    "ax.set_title('Crime Rate')\n",
    "ax.set_xlabel('Tract Bounds Charles River (0: no, 1: yes)')\n",
    "ax.set_ylabel('Crime Rate')\n",
    "pyplot.show()"
   ]
  },
  {
   "cell_type": "markdown",
   "metadata": {},
   "source": [
    "#### Task 2.3: Provide a boxplot for the MEDV variable vs the AGE variable.\n",
    "##### Discretize the age variable into three groups of 35 years and younger, between 35 and 70 years and 70 years and older."
   ]
  },
  {
   "cell_type": "code",
   "execution_count": null,
   "metadata": {},
   "outputs": [],
   "source": [
    "bins = [0, 35, 70, 1000]\n",
    "boston_df[\"age_buckets\"] = pd.cut(boston_df.AGE, bins).astype(str)\n",
    "ax = sns.boxplot(x='age_buckets', y='MEDV', data=boston_df)\n",
    "ax.set_title('Owner Occupied Home Value')\n",
    "ax.set_xlabel('Age Group')\n",
    "ax.set_ylabel('Median Home Value [1\\'000$]')\n",
    "pyplot.show()"
   ]
  },
  {
   "cell_type": "markdown",
   "metadata": {},
   "source": [
    "#### Task 2.4a: Provide a scatter plot to show the relationship between Nitric oxide concentrations and the proportion of non-retail business acres per town.\n"
   ]
  },
  {
   "cell_type": "code",
   "execution_count": null,
   "metadata": {},
   "outputs": [],
   "source": [
    "ax = sns.scatterplot(x='NOX', y='INDUS', data=boston_df)\n",
    "ax.set_title('Correlation Plot')\n",
    "ax.set_xlabel('Nitric oxides concentration')\n",
    "ax.set_ylabel('Proportion of non-retail business acres')\n",
    "pyplot.show()"
   ]
  },
  {
   "cell_type": "markdown",
   "metadata": {},
   "source": [
    "#### Task 2.4b: What can you say about the relationship?\n",
    "##### There is a positive correlation between the two variables\n",
    "#### Proof:\n",
    "This also answers the question in task 3.3.\n",
    "\n",
    "Here I use corr method of pandas dataframe. Furtherdown the same result is obtained with pearsonr method of scipy."
   ]
  },
  {
   "cell_type": "code",
   "execution_count": null,
   "metadata": {},
   "outputs": [],
   "source": [
    "boston_df[['NOX', 'INDUS']].corr(method='pearson')"
   ]
  },
  {
   "cell_type": "markdown",
   "metadata": {},
   "source": [
    "#### Task 2.5: Create a histogram for the pupil to teacher ratio variable\n"
   ]
  },
  {
   "cell_type": "code",
   "execution_count": null,
   "metadata": {},
   "outputs": [],
   "source": [
    "ax = sns.histplot(x='PTRATIO', data=boston_df, binwidth=1, binrange=[0,25])\n",
    "ax.set_title('Histogram')\n",
    "ax.set_xlabel('Pupil-teacher ratio by town')\n",
    "ax.set_ylabel('Count')\n",
    "pyplot.show()"
   ]
  },
  {
   "cell_type": "markdown",
   "metadata": {},
   "source": [
    "## Task 3:\n",
    "#### Task 3.1: Is there a significant difference in median value of houses bounded by the Charles river or not?\n",
    "Use T-test for independent samples.\n"
   ]
  },
  {
   "cell_type": "markdown",
   "metadata": {},
   "source": [
    "State the hypothesis\n",
    "\n",
    "*   $H\\_0: µ\\_1 = µ\\_2$ (\"there is no difference in median value of houses bounded by the Charles river or not\")\n",
    "*   $H\\_1: µ\\_1 ≠ µ\\_2$ (\"there is a difference in median value of houses bounded by the Charles river or not\")\n",
    "\n",
    "I use **alpha = 0.05**."
   ]
  },
  {
   "cell_type": "code",
   "execution_count": null,
   "metadata": {},
   "outputs": [],
   "source": [
    "scipy.stats.levene(boston_df[boston_df['CHAS'] == 0]['MEDV'],\n",
    "                   boston_df[boston_df['CHAS'] == 1]['MEDV'], center='mean')"
   ]
  },
  {
   "cell_type": "markdown",
   "metadata": {},
   "source": [
    "* Since the p-value is smaller than 0.05 we **cannot** assume equality of variance"
   ]
  },
  {
   "cell_type": "code",
   "execution_count": null,
   "metadata": {},
   "outputs": [],
   "source": [
    "scipy.stats.ttest_ind(boston_df[boston_df['CHAS'] == 0]['MEDV'],\n",
    "                      boston_df[boston_df['CHAS'] == 1]['MEDV'], equal_var = False)"
   ]
  },
  {
   "cell_type": "markdown",
   "metadata": {},
   "source": [
    "**Conclusion:** Since the p-value is less than alpha value 0.05, we reject the null hypothesis as there is enough proof that there is a statistical difference in median value of houses bounded by the Charles river or not."
   ]
  },
  {
   "cell_type": "markdown",
   "metadata": {},
   "source": [
    "#### Task 3.2: Is there a difference in Median values of houses (MEDV) for each proportion of owner occupied units built prior to 1940 (AGE)?\n",
    "Use ANOVA. The three age buckets are as in task 2.3."
   ]
  },
  {
   "cell_type": "markdown",
   "metadata": {},
   "source": [
    "State the hypothesis\n",
    "\n",
    "*   $H\\_0: µ\\_1 = µ\\_2 = µ\\_3$: no difference in MEDV between the three age buckets\n",
    "*   $H\\_1:$ At least one of the means differ\n"
   ]
  },
  {
   "cell_type": "code",
   "execution_count": null,
   "metadata": {},
   "outputs": [],
   "source": [
    "scipy.stats.levene(boston_df[boston_df['age_buckets'] == '(0, 35]']['MEDV'],\n",
    "                   boston_df[boston_df['age_buckets'] == '(35, 70]']['MEDV'], \n",
    "                   boston_df[boston_df['age_buckets'] == '(70, 1000]']['MEDV'], \n",
    "                   center='mean')"
   ]
  },
  {
   "cell_type": "markdown",
   "metadata": {},
   "source": [
    "Since the p-value is larger than 0.05, we can assume the variances are equal."
   ]
  },
  {
   "cell_type": "code",
   "execution_count": null,
   "metadata": {},
   "outputs": [],
   "source": [
    "age_to_35 = boston_df[boston_df['age_buckets'] == '(0, 35]']['MEDV']\n",
    "age_35_to_70 = boston_df[boston_df['age_buckets'] == '(35, 70]']['MEDV']\n",
    "age_70_above = boston_df[boston_df['age_buckets'] == '(70, 1000]']['MEDV']"
   ]
  },
  {
   "cell_type": "code",
   "execution_count": null,
   "metadata": {},
   "outputs": [],
   "source": [
    "f_statistic, p_value = scipy.stats.f_oneway(age_to_35, age_35_to_70, age_70_above)\n",
    "print(\"F_Statistic: {0}, P-Value: {1}\".format(f_statistic,p_value))"
   ]
  },
  {
   "cell_type": "markdown",
   "metadata": {},
   "source": [
    "**Conclusion:** Since the p-value is less than 0.05, we will reject the null hypothesis as there is significant evidence that at least one of the means differs.\n"
   ]
  },
  {
   "cell_type": "markdown",
   "metadata": {},
   "source": [
    "### Task 3.3: Can we conclude that there is no relationship between Nitric oxide concentrations (NOX) and proportion of non-retail business acres per town (INDUS)?\n",
    "(Pearson Correlation)\n",
    "#### No we cannot conclude that. As seen from plot in task 2.4b and correlation value of around 0.76 there is a fairly strong correlation between the two variables.\n",
    "\n",
    "The same result can be optained with the pearsonr method of scipy as used in one of the tutorial videos."
   ]
  },
  {
   "cell_type": "code",
   "execution_count": null,
   "metadata": {},
   "outputs": [],
   "source": [
    "scipy.stats.pearsonr(boston_df['NOX'], boston_df['INDUS'])"
   ]
  },
  {
   "cell_type": "markdown",
   "metadata": {},
   "source": [
    "### Task 3.4 What is the impact of the weighted distance to the five Boston employment centres on the median value of owner occupied homes? \n",
    "(Regression analysis)\n",
    "\n",
    "*   $H\\_0: β1$ = 0: distance to employment centers has **no** effect on median house values\n",
    "*   $H\\_1: β1$ is not equal to 0: distance to employment centers has effect on median house values "
   ]
  },
  {
   "cell_type": "code",
   "execution_count": null,
   "metadata": {},
   "outputs": [],
   "source": [
    "## X is the input variables (or independent variables) - here the weighted distance\n",
    "X = boston_df['DIS']\n",
    "## y is the target/dependent variable - here the median value of owner occupied houses\n",
    "y = boston_df['MEDV']\n",
    "## add an intercept (beta_0) to our model\n",
    "X = sm.add_constant(X) \n",
    "\n",
    "model = sm.OLS(y, X).fit()\n",
    "predictions = model.predict(X)\n",
    "\n",
    "# Print out the statistics\n",
    "model.summary()"
   ]
  },
  {
   "cell_type": "markdown",
   "metadata": {},
   "source": [
    "**Conclusion**: The p-value is less than the 0.05, so we reject the null hypothesis meaning that the distance to the employment centers does have an effect on median housing values!\n",
    "\n",
    "The same can be obtained by correlation:"
   ]
  },
  {
   "cell_type": "code",
   "execution_count": null,
   "metadata": {},
   "outputs": [],
   "source": [
    "scipy.stats.pearsonr(boston_df['DIS'], boston_df['MEDV'])"
   ]
  },
  {
   "cell_type": "code",
   "execution_count": null,
   "metadata": {},
   "outputs": [],
   "source": []
  }
 ],
 "metadata": {
  "kernelspec": {
   "display_name": "Python 3 (ipykernel)",
   "language": "python",
   "name": "python3"
  },
  "language_info": {
   "codemirror_mode": {
    "name": "ipython",
    "version": 3
   },
   "file_extension": ".py",
   "mimetype": "text/x-python",
   "name": "python",
   "nbconvert_exporter": "python",
   "pygments_lexer": "ipython3",
   "version": "3.12.4"
  }
 },
 "nbformat": 4,
 "nbformat_minor": 4
}
